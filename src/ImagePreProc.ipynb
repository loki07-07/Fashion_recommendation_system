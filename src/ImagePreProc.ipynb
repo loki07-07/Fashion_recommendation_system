{
 "cells": [
  {
   "cell_type": "code",
   "execution_count": 5,
   "id": "cf043e2e-1bc8-4b10-bf3d-895e1514a932",
   "metadata": {},
   "outputs": [
    {
     "name": "stdout",
     "output_type": "stream",
     "text": [
      "['.DS_Store', 'mid-dark', 'mid-light', 'light', 'dark']\n"
     ]
    }
   ],
   "source": [
    "import os\n",
    "print(os.listdir(\"/Users/kiranguruv/Downloads/data_skintone\"))\n"
   ]
  },
  {
   "cell_type": "code",
   "execution_count": 4,
   "id": "188d0790-bfa9-4f86-9d8b-7c7f68d4e17f",
   "metadata": {},
   "outputs": [
    {
     "name": "stdout",
     "output_type": "stream",
     "text": [
      "mid-dark 10576\n",
      "mid-light 6844\n",
      "light 9769\n",
      "dark 8640\n"
     ]
    }
   ],
   "source": [
    "import os\n",
    "\n",
    "images = []\n",
    "classes = []\n",
    "\n",
    "base_path = \"/Users/kiranguruv/Downloads/data_skintone\"\n",
    "\n",
    "for fold in os.listdir(base_path):\n",
    "    path = os.path.join(base_path, fold)\n",
    "    if os.path.isdir(path):  # ✅ Only process if it's a directory\n",
    "        print(fold, len(os.listdir(path)))\n",
    "        images.append(os.path.join(path, os.listdir(path)[0]))\n",
    "        classes.append(fold)\n"
   ]
  },
  {
   "cell_type": "code",
   "execution_count": 6,
   "id": "14bfcd3e-d528-44c9-86aa-60c116aa56f7",
   "metadata": {},
   "outputs": [
    {
     "name": "stdout",
     "output_type": "stream",
     "text": [
      "Processing mid-dark...\n"
     ]
    },
    {
     "name": "stderr",
     "output_type": "stream",
     "text": [
      "  0%|                                                 | 0/10576 [00:00<?, ?it/s]W0000 00:00:1745211629.951545   21059 landmark_projection_calculator.cc:186] Using NORM_RECT without IMAGE_DIMENSIONS is only supported for the square ROI. Provide IMAGE_DIMENSIONS or use PROJECTION_MATRIX.\n",
      " 10%|███▊                                 | 1087/10576 [00:05<00:43, 216.03it/s]\n"
     ]
    },
    {
     "name": "stdout",
     "output_type": "stream",
     "text": [
      "✓ 1000 valid images saved for mid-dark\n",
      "\n",
      "Processing mid-light...\n"
     ]
    },
    {
     "name": "stderr",
     "output_type": "stream",
     "text": [
      " 16%|█████▉                                | 1066/6844 [00:04<00:26, 216.11it/s]\n"
     ]
    },
    {
     "name": "stdout",
     "output_type": "stream",
     "text": [
      "✓ 1000 valid images saved for mid-light\n",
      "\n",
      "Processing light...\n"
     ]
    },
    {
     "name": "stderr",
     "output_type": "stream",
     "text": [
      " 11%|████                                  | 1053/9769 [00:04<00:40, 217.88it/s]\n"
     ]
    },
    {
     "name": "stdout",
     "output_type": "stream",
     "text": [
      "✓ 1000 valid images saved for light\n",
      "\n",
      "Processing dark...\n"
     ]
    },
    {
     "name": "stderr",
     "output_type": "stream",
     "text": [
      " 13%|████▊                                 | 1089/8640 [00:05<00:35, 215.53it/s]"
     ]
    },
    {
     "name": "stdout",
     "output_type": "stream",
     "text": [
      "✓ 1000 valid images saved for dark\n",
      "\n"
     ]
    },
    {
     "name": "stderr",
     "output_type": "stream",
     "text": [
      "\n"
     ]
    }
   ],
   "source": [
    "for skintone in os.listdir(source_base):\n",
    "    src_folder = os.path.join(source_base, skintone)\n",
    "    if not os.path.isdir(src_folder):\n",
    "        continue  # ✅ Skip .DS_Store or any stray files\n",
    "\n",
    "    dst_folder = os.path.join(dest_base, skintone)\n",
    "    os.makedirs(dst_folder, exist_ok=True)\n",
    "\n",
    "    valid_count = 0\n",
    "\n",
    "    print(f\"Processing {skintone}...\")\n",
    "\n",
    "    for img_name in tqdm(os.listdir(src_folder)):\n",
    "        if valid_count >= 1000:\n",
    "            break\n",
    "\n",
    "        img_path = os.path.join(src_folder, img_name)\n",
    "        img = cv2.imread(img_path)\n",
    "\n",
    "        if img is None:\n",
    "            continue\n",
    "\n",
    "        img_rgb = cv2.cvtColor(img, cv2.COLOR_BGR2RGB)\n",
    "        result = face_mesh.process(img_rgb)\n",
    "\n",
    "        if result.multi_face_landmarks:\n",
    "            landmarks = result.multi_face_landmarks[0].landmark\n",
    "            h, w = img.shape[:2]\n",
    "\n",
    "            if is_frontal_with_two_eyes(landmarks, w, h):\n",
    "                shutil.copy(img_path, os.path.join(dst_folder, img_name))\n",
    "                valid_count += 1\n",
    "\n",
    "    print(f\"✓ {valid_count} valid images saved for {skintone}\\n\")\n"
   ]
  },
  {
   "cell_type": "code",
   "execution_count": 2,
   "id": "99a96cc8-117f-4f22-a4cf-62ca10f39b91",
   "metadata": {},
   "outputs": [
    {
     "name": "stdout",
     "output_type": "stream",
     "text": [
      ".DS_Store is empty.\n",
      "mid-dark 1000\n",
      "mid-light 1000\n",
      "light 1000\n",
      "dark 1000\n"
     ]
    }
   ],
   "source": [
    "import os\n",
    "\n",
    "images = []\n",
    "classes = []\n",
    "\n",
    "base_path = \"/Users/kiranguruv/Downloads/filtered_skintone\"\n",
    "\n",
    "for fold in os.listdir(base_path):\n",
    "    path = os.path.join(base_path, fold)\n",
    "    if os.path.isdir(path):  # ✅ Only process if it's a directory\n",
    "        files = os.listdir(path)\n",
    "        if len(files) == 0:\n",
    "            print(f\"{fold} is empty.\")\n",
    "            continue\n",
    "        print(f\"{fold} {len(files)}\")\n",
    "        images.append(os.path.join(path, files[0]))\n",
    "        classes.append(fold)\n"
   ]
  },
  {
   "cell_type": "code",
   "execution_count": null,
   "id": "06d65274-c214-4831-bfc5-62e1d10feaa3",
   "metadata": {},
   "outputs": [],
   "source": []
  }
 ],
 "metadata": {
  "kernelspec": {
   "display_name": "Python 3 (ipykernel)",
   "language": "python",
   "name": "python3"
  },
  "language_info": {
   "codemirror_mode": {
    "name": "ipython",
    "version": 3
   },
   "file_extension": ".py",
   "mimetype": "text/x-python",
   "name": "python",
   "nbconvert_exporter": "python",
   "pygments_lexer": "ipython3",
   "version": "3.11.7"
  }
 },
 "nbformat": 4,
 "nbformat_minor": 5
}
